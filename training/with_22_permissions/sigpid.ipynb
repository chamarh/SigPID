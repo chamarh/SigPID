{
 "cells": [
  {
   "cell_type": "code",
   "execution_count": 1,
   "id": "7ff748b9",
   "metadata": {},
   "outputs": [],
   "source": [
    "import numpy as np\n",
    "from numpy import genfromtxt \n",
    "import pandas as pd"
   ]
  },
  {
   "cell_type": "code",
   "execution_count": 2,
   "id": "bf192d17",
   "metadata": {},
   "outputs": [
    {
     "name": "stdout",
     "output_type": "stream",
     "text": [
      "[[1. 0. 0. ... 0. 0. 0.]\n",
      " [0. 0. 0. ... 0. 1. 0.]\n",
      " [0. 0. 0. ... 0. 0. 0.]\n",
      " ...\n",
      " [0. 0. 0. ... 0. 0. 0.]\n",
      " [1. 0. 0. ... 0. 0. 0.]\n",
      " [0. 0. 0. ... 0. 0. 0.]]\n",
      "['1' '1' '1' ... '1' '1' '1']\n"
     ]
    }
   ],
   "source": [
    "# 0 -> benign , 1 -> malicious  train data\n",
    "feature=genfromtxt('train.csv', delimiter=',', usecols=(i for i in range(0,22)),dtype=float,skip_header=1)\n",
    "class_value=genfromtxt('train.csv', delimiter=',', usecols=(-1), dtype=str, skip_header=1)\n",
    "print(feature)\n",
    "print(class_value)"
   ]
  },
  {
   "cell_type": "code",
   "execution_count": 3,
   "id": "eb316baf",
   "metadata": {},
   "outputs": [
    {
     "name": "stdout",
     "output_type": "stream",
     "text": [
      "[[1. 0. 0. ... 0. 0. 0.]\n",
      " [0. 0. 0. ... 0. 1. 0.]\n",
      " [0. 0. 0. ... 0. 0. 0.]\n",
      " ...\n",
      " [0. 0. 0. ... 0. 0. 0.]\n",
      " [1. 0. 0. ... 0. 0. 0.]\n",
      " [0. 0. 0. ... 0. 0. 0.]]\n",
      "['1' '1' '1' ... '1' '1' '1']\n"
     ]
    }
   ],
   "source": [
    "# import testing data \n",
    "feature_test=genfromtxt('test.csv', delimiter=',', usecols=(i for i in range(0,22)),dtype=float,skip_header=1)\n",
    "class_value_test=genfromtxt('test.csv', delimiter=',', usecols=(-1), dtype=str, skip_header=1)\n",
    "print(feature)\n",
    "print(class_value)"
   ]
  },
  {
   "cell_type": "code",
   "execution_count": null,
   "id": "ff4f755c",
   "metadata": {},
   "outputs": [],
   "source": [
    "# train data\n",
    "feature= feature.astype(int)\n",
    "class_value= class_value.astype(int)\n",
    "# test data\n",
    "feature_test= feature_test.astype(int)\n",
    "class_value_test= class_value_test.astype(int)"
   ]
  },
  {
   "cell_type": "markdown",
   "id": "7f4fc9d9",
   "metadata": {},
   "source": [
    "# svm "
   ]
  },
  {
   "cell_type": "code",
   "execution_count": 7,
   "id": "eb098396",
   "metadata": {},
   "outputs": [],
   "source": [
    "from sklearn.svm import SVC\n",
    "from sklearn.metrics import accuracy_score,f1_score\n"
   ]
  },
  {
   "cell_type": "code",
   "execution_count": 9,
   "id": "98f49cee",
   "metadata": {},
   "outputs": [],
   "source": [
    "#Create a svm Classifier\n",
    "clf_svm = SVC(kernel='linear') # Linear Kernel\n",
    "\n",
    "#Train the model using the training sets\n",
    "clf_svm.fit(feature, class_value)\n",
    "\n",
    "#Predict the response for test dataset\n",
    "y_pred_svm = clf_svm.predict(feature_test)"
   ]
  },
  {
   "cell_type": "code",
   "execution_count": 10,
   "id": "e9497d64",
   "metadata": {
    "scrolled": true
   },
   "outputs": [
    {
     "name": "stdout",
     "output_type": "stream",
     "text": [
      "[1 1 1 1 0 1 1 1 1 1 1 1 0 1 1 1 1 0 0 0 1 1 0 1 0 0 1 0 1 1 1 1 1 0 1 1 1\n",
      " 1 1 0 1 1 1 1 0 1 0 1 1 1 0 1 0 1 1 0 1 1 1 1 1 1 0 1 0 1 0 1 0 1 1 1 0 0\n",
      " 0 1 1 1 1 0 1 1 1 1 0 1 1 1 1 0 1 1 0 1 1 1 1 1 0 0 1 1 1 0 1 1 1 0 1 1 1\n",
      " 0 0 0 1 1 1 1 1 0 1 0 0 1 0 0 1 1 1 0 0 1 1 1 1 1 1 1 1 1 1 0 0 0 0 1 1 1\n",
      " 1 1 1 0 0 0 1 1 1 0 1 1 1 0 1 0 1 1 1 1 1 0 1 1 0 0 1 0 1 0 1 0 0 0 0 1 1\n",
      " 1 1 0 0 1 1 1 0 0 1 0 1 1 1 0 0 0 0 0 0 0 0 0 0 0 0 0 0 0 0 0 0 0 0 0 0 0\n",
      " 0 0 0 1 0 0 0 0 0 0 0 0 0 0 0 0 0 0 0 0 0 0 0 0 0 0 0 0 0 0 0 0 0 1 1 0 0\n",
      " 0 0 0 0 0 0 0 0 0 0 0 0 0 0 0 0 0 0 0 0 0 0 0 0 0 0 0 0 0 0 0 0 0 0 0 0 0\n",
      " 0 0 0 0 0 0 0 0 0 0 0 0 0 0 0 0 0 0 0 0 0 0 0 0 0 1 0 0 0 0 0 0 0 0 0 0 0\n",
      " 0 0 0 0 1 0 0 0 0 0 1 0 0 0 0 0 0 0 0 0 0 0 0 0 0 0 0 0 0 0 0 0 0 0 0 0 0\n",
      " 0 0 0 0 0 0 0 0 0 0 0 0 0 0 0 0 0 0 0 0 0 0 1 0 0 0 0 0]\n"
     ]
    }
   ],
   "source": [
    "print(y_pred_svm)"
   ]
  },
  {
   "cell_type": "code",
   "execution_count": 11,
   "id": "e4a2c5b8",
   "metadata": {},
   "outputs": [
    {
     "data": {
      "text/plain": [
       "0.8190954773869347"
      ]
     },
     "execution_count": 11,
     "metadata": {},
     "output_type": "execute_result"
    }
   ],
   "source": [
    "accuracy_score(class_value_test,y_pred_svm)"
   ]
  },
  {
   "cell_type": "code",
   "execution_count": 12,
   "id": "8978de69",
   "metadata": {
    "scrolled": true
   },
   "outputs": [
    {
     "data": {
      "text/plain": [
       "0.7882352941176471"
      ]
     },
     "execution_count": 12,
     "metadata": {},
     "output_type": "execute_result"
    }
   ],
   "source": [
    "f1_score(class_value_test,y_pred_svm)"
   ]
  },
  {
   "cell_type": "markdown",
   "id": "bec1f502",
   "metadata": {},
   "source": [
    "# RandomForestClassifier"
   ]
  },
  {
   "cell_type": "code",
   "execution_count": 13,
   "id": "714b3f45",
   "metadata": {},
   "outputs": [],
   "source": [
    "from sklearn.ensemble import RandomForestClassifier\n",
    "clf_rf = RandomForestClassifier(max_depth=2, random_state=0)\n",
    "clf_rf.fit(feature, class_value)\n",
    "y_pred_rf = clf_rf.predict(feature_test)"
   ]
  },
  {
   "cell_type": "code",
   "execution_count": 14,
   "id": "b75b931c",
   "metadata": {},
   "outputs": [
    {
     "data": {
      "text/plain": [
       "0.7311557788944724"
      ]
     },
     "execution_count": 14,
     "metadata": {},
     "output_type": "execute_result"
    }
   ],
   "source": [
    "accuracy_score(class_value_test,y_pred_rf)"
   ]
  },
  {
   "cell_type": "code",
   "execution_count": 15,
   "id": "5ab8694e",
   "metadata": {},
   "outputs": [
    {
     "data": {
      "text/plain": [
       "0.6372881355932204"
      ]
     },
     "execution_count": 15,
     "metadata": {},
     "output_type": "execute_result"
    }
   ],
   "source": [
    "f1_score(class_value_test,y_pred_rf)"
   ]
  },
  {
   "cell_type": "markdown",
   "id": "00034c5a",
   "metadata": {},
   "source": [
    "# GaussianNB"
   ]
  },
  {
   "cell_type": "code",
   "execution_count": 16,
   "id": "cfab86bc",
   "metadata": {},
   "outputs": [],
   "source": [
    "from sklearn.naive_bayes import GaussianNB\n",
    "clf_nb = GaussianNB()\n",
    "clf_nb.fit(feature, class_value)\n",
    "y_pred_nb = clf_nb.predict(feature_test)"
   ]
  },
  {
   "cell_type": "code",
   "execution_count": 17,
   "id": "b27c082a",
   "metadata": {},
   "outputs": [
    {
     "data": {
      "text/plain": [
       "0.8442211055276382"
      ]
     },
     "execution_count": 17,
     "metadata": {},
     "output_type": "execute_result"
    }
   ],
   "source": [
    "accuracy_score(class_value_test,y_pred_nb)"
   ]
  },
  {
   "cell_type": "code",
   "execution_count": 18,
   "id": "36f8d9b1",
   "metadata": {},
   "outputs": [
    {
     "data": {
      "text/plain": [
       "0.8287292817679558"
      ]
     },
     "execution_count": 18,
     "metadata": {},
     "output_type": "execute_result"
    }
   ],
   "source": [
    "f1_score(class_value_test,y_pred_nb)"
   ]
  },
  {
   "cell_type": "markdown",
   "id": "acb7177f",
   "metadata": {},
   "source": [
    "# DecisionTreeClassifier"
   ]
  },
  {
   "cell_type": "code",
   "execution_count": 38,
   "id": "6e4cac8a",
   "metadata": {},
   "outputs": [],
   "source": [
    "from sklearn.tree import DecisionTreeClassifier\n",
    "clf_dt = DecisionTreeClassifier(random_state=0)\n",
    "clf_dt.fit(feature, class_value)\n",
    "y_pred_dt = clf_dt.predict(feature_test)"
   ]
  },
  {
   "cell_type": "code",
   "execution_count": 47,
   "id": "9410fa2a",
   "metadata": {},
   "outputs": [
    {
     "name": "stdout",
     "output_type": "stream",
     "text": [
      "[1]\n"
     ]
    }
   ],
   "source": [
    "test = clf_dt.predict([[1,0,0,0,0,1,0,0,1,0,0,1,1,1,0,1,0,0,0,0,0,0]])\n",
    "print(test)"
   ]
  },
  {
   "cell_type": "code",
   "execution_count": 35,
   "id": "e195cb82",
   "metadata": {},
   "outputs": [
    {
     "data": {
      "text/plain": [
       "0.9447236180904522"
      ]
     },
     "execution_count": 35,
     "metadata": {},
     "output_type": "execute_result"
    }
   ],
   "source": [
    "accuracy_score(class_value_test,y_pred_dt)"
   ]
  },
  {
   "cell_type": "code",
   "execution_count": 36,
   "id": "a6d7bb6a",
   "metadata": {},
   "outputs": [
    {
     "data": {
      "text/plain": [
       "0.9430051813471502"
      ]
     },
     "execution_count": 36,
     "metadata": {},
     "output_type": "execute_result"
    }
   ],
   "source": [
    "f1_score(class_value_test,y_pred_dt)"
   ]
  },
  {
   "cell_type": "markdown",
   "id": "dac90ad9",
   "metadata": {},
   "source": [
    "#  KNeighborsClassifier"
   ]
  },
  {
   "cell_type": "code",
   "execution_count": 22,
   "id": "dfe70e56",
   "metadata": {},
   "outputs": [],
   "source": [
    "from sklearn.neighbors import KNeighborsClassifier\n",
    "clf_knn = KNeighborsClassifier(n_neighbors=3)\n",
    "clf_knn.fit(feature, class_value)\n",
    "y_pred_knn = clf_knn.predict(feature_test)"
   ]
  },
  {
   "cell_type": "code",
   "execution_count": 23,
   "id": "289ca2f1",
   "metadata": {},
   "outputs": [
    {
     "data": {
      "text/plain": [
       "0.6306532663316583"
      ]
     },
     "execution_count": 23,
     "metadata": {},
     "output_type": "execute_result"
    }
   ],
   "source": [
    "accuracy_score(class_value_test,y_pred_knn)"
   ]
  },
  {
   "cell_type": "code",
   "execution_count": 24,
   "id": "d8d910e3",
   "metadata": {},
   "outputs": [
    {
     "data": {
      "text/plain": [
       "0.7302752293577982"
      ]
     },
     "execution_count": 24,
     "metadata": {},
     "output_type": "execute_result"
    }
   ],
   "source": [
    "f1_score(class_value_test,y_pred_knn)"
   ]
  },
  {
   "cell_type": "markdown",
   "id": "66c7cadb",
   "metadata": {},
   "source": [
    "#  BaggingClassifier"
   ]
  },
  {
   "cell_type": "code",
   "execution_count": 25,
   "id": "287ab68e",
   "metadata": {},
   "outputs": [],
   "source": [
    "from sklearn.ensemble import BaggingClassifier\n",
    "clf_bgg = BaggingClassifier(base_estimator=SVC(), n_estimators=10, random_state=0)\n",
    "clf_bgg.fit(feature, class_value)\n",
    "y_pred_bgg = clf_bgg.predict(feature_test)"
   ]
  },
  {
   "cell_type": "code",
   "execution_count": 26,
   "id": "3649cb76",
   "metadata": {},
   "outputs": [
    {
     "data": {
      "text/plain": [
       "0.9396984924623115"
      ]
     },
     "execution_count": 26,
     "metadata": {},
     "output_type": "execute_result"
    }
   ],
   "source": [
    "accuracy_score(class_value_test,y_pred_bgg)"
   ]
  },
  {
   "cell_type": "code",
   "execution_count": 27,
   "id": "64ef5e72",
   "metadata": {},
   "outputs": [
    {
     "data": {
      "text/plain": [
       "0.93717277486911"
      ]
     },
     "execution_count": 27,
     "metadata": {},
     "output_type": "execute_result"
    }
   ],
   "source": [
    "f1_score(class_value_test,y_pred_bgg)"
   ]
  },
  {
   "cell_type": "code",
   "execution_count": null,
   "id": "bceb5ca1",
   "metadata": {},
   "outputs": [],
   "source": []
  }
 ],
 "metadata": {
  "kernelspec": {
   "display_name": "Python 3",
   "language": "python",
   "name": "python3"
  },
  "language_info": {
   "codemirror_mode": {
    "name": "ipython",
    "version": 3
   },
   "file_extension": ".py",
   "mimetype": "text/x-python",
   "name": "python",
   "nbconvert_exporter": "python",
   "pygments_lexer": "ipython3",
   "version": "3.8.8"
  }
 },
 "nbformat": 4,
 "nbformat_minor": 5
}

{
 "cells": [
  {
   "cell_type": "code",
   "execution_count": 1,
   "id": "e494f40d",
   "metadata": {},
   "outputs": [],
   "source": [
    "import numpy as np\n",
    "from numpy import genfromtxt \n",
    "import pandas as pd"
   ]
  },
  {
   "cell_type": "code",
   "execution_count": 2,
   "id": "cf104ad3",
   "metadata": {},
   "outputs": [
    {
     "name": "stdout",
     "output_type": "stream",
     "text": [
      "[[1. 0. 0. ... 0. 0. 0.]\n",
      " [0. 0. 0. ... 0. 1. 0.]\n",
      " [0. 0. 0. ... 0. 0. 0.]\n",
      " ...\n",
      " [0. 0. 0. ... 0. 0. 0.]\n",
      " [1. 0. 0. ... 0. 0. 0.]\n",
      " [0. 0. 0. ... 0. 0. 0.]]\n",
      "['1' '1' '1' ... '1' '1' '1']\n"
     ]
    }
   ],
   "source": [
    "# 0 -> benign , 1 -> malicious  train data\n",
    "feature=genfromtxt('train.csv', delimiter=',', usecols=(i for i in range(0,22)),dtype=float,skip_header=1)\n",
    "class_value=genfromtxt('train.csv', delimiter=',', usecols=(-1), dtype=str, skip_header=1)\n",
    "print(feature)\n",
    "print(class_value)"
   ]
  },
  {
   "cell_type": "code",
   "execution_count": 3,
   "id": "dcc57fe4",
   "metadata": {},
   "outputs": [
    {
     "name": "stdout",
     "output_type": "stream",
     "text": [
      "[[1. 0. 0. ... 0. 0. 0.]\n",
      " [0. 0. 0. ... 0. 1. 0.]\n",
      " [0. 0. 0. ... 0. 0. 0.]\n",
      " ...\n",
      " [0. 0. 0. ... 0. 0. 0.]\n",
      " [1. 0. 0. ... 0. 0. 0.]\n",
      " [0. 0. 0. ... 0. 0. 0.]]\n",
      "['1' '1' '1' ... '1' '1' '1']\n"
     ]
    }
   ],
   "source": [
    "# import testing data \n",
    "feature_test=genfromtxt('test.csv', delimiter=',', usecols=(i for i in range(0,22)),dtype=float,skip_header=1)\n",
    "class_value_test=genfromtxt('test.csv', delimiter=',', usecols=(-1), dtype=str, skip_header=1)\n",
    "print(feature)\n",
    "print(class_value)"
   ]
  },
  {
   "cell_type": "code",
   "execution_count": null,
   "id": "e3ceba6f",
   "metadata": {},
   "outputs": [],
   "source": [
    "# train data\n",
    "feature= feature.astype(int)\n",
    "class_value= class_value.astype(int)\n",
    "# test data\n",
    "feature_test= feature_test.astype(int)\n",
    "class_value_test= class_value_test.astype(int)"
   ]
  },
  {
   "cell_type": "markdown",
   "id": "8c7dcc01",
   "metadata": {},
   "source": [
    "# svm "
   ]
  },
  {
   "cell_type": "code",
   "execution_count": 7,
   "id": "9342bea1",
   "metadata": {},
   "outputs": [],
   "source": [
    "from sklearn.svm import SVC\n",
    "from sklearn.metrics import accuracy_score,f1_score\n"
   ]
  },
  {
   "cell_type": "code",
   "execution_count": 9,
   "id": "5c2348cb",
   "metadata": {},
   "outputs": [],
   "source": [
    "#Create a svm Classifier\n",
    "clf_svm = SVC(kernel='linear') # Linear Kernel\n",
    "\n",
    "#Train the model using the training sets\n",
    "clf_svm.fit(feature, class_value)\n",
    "\n",
    "#Predict the response for test dataset\n",
    "y_pred_svm = clf_svm.predict(feature_test)"
   ]
  },
  {
   "cell_type": "code",
   "execution_count": 10,
   "id": "f7ac23d0",
   "metadata": {
    "scrolled": true
   },
   "outputs": [
    {
     "name": "stdout",
     "output_type": "stream",
     "text": [
      "[1 1 1 1 0 1 1 1 1 1 1 1 0 1 1 1 1 0 0 0 1 1 0 1 0 0 1 0 1 1 1 1 1 0 1 1 1\n",
      " 1 1 0 1 1 1 1 0 1 0 1 1 1 0 1 0 1 1 0 1 1 1 1 1 1 0 1 0 1 0 1 0 1 1 1 0 0\n",
      " 0 1 1 1 1 0 1 1 1 1 0 1 1 1 1 0 1 1 0 1 1 1 1 1 0 0 1 1 1 0 1 1 1 0 1 1 1\n",
      " 0 0 0 1 1 1 1 1 0 1 0 0 1 0 0 1 1 1 0 0 1 1 1 1 1 1 1 1 1 1 0 0 0 0 1 1 1\n",
      " 1 1 1 0 0 0 1 1 1 0 1 1 1 0 1 0 1 1 1 1 1 0 1 1 0 0 1 0 1 0 1 0 0 0 0 1 1\n",
      " 1 1 0 0 1 1 1 0 0 1 0 1 1 1 0 0 0 0 0 0 0 0 0 0 0 0 0 0 0 0 0 0 0 0 0 0 0\n",
      " 0 0 0 1 0 0 0 0 0 0 0 0 0 0 0 0 0 0 0 0 0 0 0 0 0 0 0 0 0 0 0 0 0 1 1 0 0\n",
      " 0 0 0 0 0 0 0 0 0 0 0 0 0 0 0 0 0 0 0 0 0 0 0 0 0 0 0 0 0 0 0 0 0 0 0 0 0\n",
      " 0 0 0 0 0 0 0 0 0 0 0 0 0 0 0 0 0 0 0 0 0 0 0 0 0 1 0 0 0 0 0 0 0 0 0 0 0\n",
      " 0 0 0 0 1 0 0 0 0 0 1 0 0 0 0 0 0 0 0 0 0 0 0 0 0 0 0 0 0 0 0 0 0 0 0 0 0\n",
      " 0 0 0 0 0 0 0 0 0 0 0 0 0 0 0 0 0 0 0 0 0 0 1 0 0 0 0 0]\n"
     ]
    }
   ],
   "source": [
    "print(y_pred_svm)"
   ]
  },
  {
   "cell_type": "code",
   "execution_count": 11,
   "id": "adf01e02",
   "metadata": {},
   "outputs": [
    {
     "data": {
      "text/plain": [
       "0.8190954773869347"
      ]
     },
     "execution_count": 11,
     "metadata": {},
     "output_type": "execute_result"
    }
   ],
   "source": [
    "accuracy_score(class_value_test,y_pred_svm)"
   ]
  },
  {
   "cell_type": "code",
   "execution_count": 12,
   "id": "404bde80",
   "metadata": {
    "scrolled": true
   },
   "outputs": [
    {
     "data": {
      "text/plain": [
       "0.7882352941176471"
      ]
     },
     "execution_count": 12,
     "metadata": {},
     "output_type": "execute_result"
    }
   ],
   "source": [
    "f1_score(class_value_test,y_pred_svm)"
   ]
  },
  {
   "cell_type": "markdown",
   "id": "335ae0d6",
   "metadata": {},
   "source": [
    "# RandomForestClassifier"
   ]
  },
  {
   "cell_type": "code",
   "execution_count": 13,
   "id": "ffabe296",
   "metadata": {},
   "outputs": [],
   "source": [
    "from sklearn.ensemble import RandomForestClassifier\n",
    "clf_rf = RandomForestClassifier(max_depth=2, random_state=0)\n",
    "clf_rf.fit(feature, class_value)\n",
    "y_pred_rf = clf_rf.predict(feature_test)"
   ]
  },
  {
   "cell_type": "code",
   "execution_count": 14,
   "id": "969bb116",
   "metadata": {},
   "outputs": [
    {
     "data": {
      "text/plain": [
       "0.7311557788944724"
      ]
     },
     "execution_count": 14,
     "metadata": {},
     "output_type": "execute_result"
    }
   ],
   "source": [
    "accuracy_score(class_value_test,y_pred_rf)"
   ]
  },
  {
   "cell_type": "code",
   "execution_count": 15,
   "id": "303acf0b",
   "metadata": {},
   "outputs": [
    {
     "data": {
      "text/plain": [
       "0.6372881355932204"
      ]
     },
     "execution_count": 15,
     "metadata": {},
     "output_type": "execute_result"
    }
   ],
   "source": [
    "f1_score(class_value_test,y_pred_rf)"
   ]
  },
  {
   "cell_type": "markdown",
   "id": "d4ca1f1c",
   "metadata": {},
   "source": [
    "# GaussianNB"
   ]
  },
  {
   "cell_type": "code",
   "execution_count": 16,
   "id": "ca443f36",
   "metadata": {},
   "outputs": [],
   "source": [
    "from sklearn.naive_bayes import GaussianNB\n",
    "clf_nb = GaussianNB()\n",
    "clf_nb.fit(feature, class_value)\n",
    "y_pred_nb = clf_nb.predict(feature_test)"
   ]
  },
  {
   "cell_type": "code",
   "execution_count": 17,
   "id": "fbd6e5aa",
   "metadata": {},
   "outputs": [
    {
     "data": {
      "text/plain": [
       "0.8442211055276382"
      ]
     },
     "execution_count": 17,
     "metadata": {},
     "output_type": "execute_result"
    }
   ],
   "source": [
    "accuracy_score(class_value_test,y_pred_nb)"
   ]
  },
  {
   "cell_type": "code",
   "execution_count": 18,
   "id": "b3bc94d7",
   "metadata": {},
   "outputs": [
    {
     "data": {
      "text/plain": [
       "0.8287292817679558"
      ]
     },
     "execution_count": 18,
     "metadata": {},
     "output_type": "execute_result"
    }
   ],
   "source": [
    "f1_score(class_value_test,y_pred_nb)"
   ]
  },
  {
   "cell_type": "markdown",
   "id": "60ee8d3d",
   "metadata": {},
   "source": [
    "# DecisionTreeClassifier"
   ]
  },
  {
   "cell_type": "code",
   "execution_count": 38,
   "id": "2512c3cd",
   "metadata": {},
   "outputs": [],
   "source": [
    "from sklearn.tree import DecisionTreeClassifier\n",
    "clf_dt = DecisionTreeClassifier(random_state=0)\n",
    "clf_dt.fit(feature, class_value)\n",
    "y_pred_dt = clf_dt.predict(feature_test)"
   ]
  },
  {
   "cell_type": "code",
   "execution_count": 47,
   "id": "eda264c3",
   "metadata": {},
   "outputs": [
    {
     "name": "stdout",
     "output_type": "stream",
     "text": [
      "[1]\n"
     ]
    }
   ],
   "source": [
    "test = clf_dt.predict([[1,0,0,0,0,1,0,0,1,0,0,1,1,1,0,1,0,0,0,0,0,0]])\n",
    "print(test)"
   ]
  },
  {
   "cell_type": "code",
   "execution_count": 35,
   "id": "56edb6a9",
   "metadata": {},
   "outputs": [
    {
     "data": {
      "text/plain": [
       "0.9447236180904522"
      ]
     },
     "execution_count": 35,
     "metadata": {},
     "output_type": "execute_result"
    }
   ],
   "source": [
    "accuracy_score(class_value_test,y_pred_dt)"
   ]
  },
  {
   "cell_type": "code",
   "execution_count": 36,
   "id": "cc93f322",
   "metadata": {},
   "outputs": [
    {
     "data": {
      "text/plain": [
       "0.9430051813471502"
      ]
     },
     "execution_count": 36,
     "metadata": {},
     "output_type": "execute_result"
    }
   ],
   "source": [
    "f1_score(class_value_test,y_pred_dt)"
   ]
  },
  {
   "cell_type": "markdown",
   "id": "5fd7855c",
   "metadata": {},
   "source": [
    "#  KNeighborsClassifier"
   ]
  },
  {
   "cell_type": "code",
   "execution_count": 22,
   "id": "85694d93",
   "metadata": {},
   "outputs": [],
   "source": [
    "from sklearn.neighbors import KNeighborsClassifier\n",
    "clf_knn = KNeighborsClassifier(n_neighbors=3)\n",
    "clf_knn.fit(feature, class_value)\n",
    "y_pred_knn = clf_knn.predict(feature_test)"
   ]
  },
  {
   "cell_type": "code",
   "execution_count": 23,
   "id": "f0024cf3",
   "metadata": {},
   "outputs": [
    {
     "data": {
      "text/plain": [
       "0.6306532663316583"
      ]
     },
     "execution_count": 23,
     "metadata": {},
     "output_type": "execute_result"
    }
   ],
   "source": [
    "accuracy_score(class_value_test,y_pred_knn)"
   ]
  },
  {
   "cell_type": "code",
   "execution_count": 24,
   "id": "660ac9f1",
   "metadata": {},
   "outputs": [
    {
     "data": {
      "text/plain": [
       "0.7302752293577982"
      ]
     },
     "execution_count": 24,
     "metadata": {},
     "output_type": "execute_result"
    }
   ],
   "source": [
    "f1_score(class_value_test,y_pred_knn)"
   ]
  },
  {
   "cell_type": "markdown",
   "id": "9ee9713e",
   "metadata": {},
   "source": [
    "#  BaggingClassifier"
   ]
  },
  {
   "cell_type": "code",
   "execution_count": 25,
   "id": "e2d3a8f9",
   "metadata": {},
   "outputs": [],
   "source": [
    "from sklearn.ensemble import BaggingClassifier\n",
    "clf_bgg = BaggingClassifier(base_estimator=SVC(), n_estimators=10, random_state=0)\n",
    "clf_bgg.fit(feature, class_value)\n",
    "y_pred_bgg = clf_bgg.predict(feature_test)"
   ]
  },
  {
   "cell_type": "code",
   "execution_count": 26,
   "id": "93f027aa",
   "metadata": {},
   "outputs": [
    {
     "data": {
      "text/plain": [
       "0.9396984924623115"
      ]
     },
     "execution_count": 26,
     "metadata": {},
     "output_type": "execute_result"
    }
   ],
   "source": [
    "accuracy_score(class_value_test,y_pred_bgg)"
   ]
  },
  {
   "cell_type": "code",
   "execution_count": 27,
   "id": "dc1cbdd4",
   "metadata": {},
   "outputs": [
    {
     "data": {
      "text/plain": [
       "0.93717277486911"
      ]
     },
     "execution_count": 27,
     "metadata": {},
     "output_type": "execute_result"
    }
   ],
   "source": [
    "f1_score(class_value_test,y_pred_bgg)"
   ]
  },
  {
   "cell_type": "code",
   "execution_count": 54,
   "id": "0cb02067",
   "metadata": {},
   "outputs": [
    {
     "name": "stdout",
     "output_type": "stream",
     "text": [
      "svm:  [1]\n",
      "RF : [0]\n",
      "NB : [0]\n",
      "DT : [0]\n",
      "KNN : [1]\n",
      "Bagging : [0]\n"
     ]
    }
   ],
   "source": [
    "print(\"svm: \", clf_svm.predict([[0,0,0,0,0,0,0,0,1,1,0,0,0,1,1,0,0,0,1,0,0,0]]))\n",
    "print(\"RF :\", clf_rf.predict([[0,0,0,0,0,0,0,0,1,1,0,0,0,1,1,0,0,0,1,0,0,0]]))\n",
    "print(\"NB :\", clf_nb.predict([[0,0,0,0,0,0,0,0,1,1,0,0,0,1,1,0,0,0,1,0,0,0]]))\n",
    "print(\"DT :\", clf_dt.predict([[0,0,0,0,0,0,0,0,1,1,0,0,0,1,1,0,0,0,1,0,0,0]]))\n",
    "print(\"KNN :\",clf_knn.predict([[0,0,0,0,0,0,0,0,1,1,0,0,0,1,1,0,0,0,1,0,0,0]]))\n",
    "print(\"Bagging :\", clf_bgg.predict([[0,0,0,0,0,0,0,0,1,1,0,0,0,1,1,0,0,0,1,0,0,0]]))"
   ]
  },
  {
   "cell_type": "code",
   "execution_count": null,
   "id": "939b2236",
   "metadata": {},
   "outputs": [],
   "source": []
  }
 ],
 "metadata": {
  "kernelspec": {
   "display_name": "Python 3",
   "language": "python",
   "name": "python3"
  },
  "language_info": {
   "codemirror_mode": {
    "name": "ipython",
    "version": 3
   },
   "file_extension": ".py",
   "mimetype": "text/x-python",
   "name": "python",
   "nbconvert_exporter": "python",
   "pygments_lexer": "ipython3",
   "version": "3.8.8"
  }
 },
 "nbformat": 4,
 "nbformat_minor": 5
}
